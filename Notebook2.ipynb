{
 "cells": [
  {
   "cell_type": "code",
   "execution_count": 2,
   "id": "adab5041-f3ff-4ee5-82ad-a1dbc04efdcb",
   "metadata": {
    "id": "e7ace59b-05d1-401f-959e-6517c76f18fc",
    "tags": []
   },
   "outputs": [
    {
     "name": "stdout",
     "output_type": "stream",
     "text": [
      "Hello world. This is Notebook 2\n"
     ]
    }
   ],
   "source": [
    "print(\"Hello world. This is Notebook 2\")"
   ]
  },
  {
   "cell_type": "code",
   "execution_count": null,
   "id": "d6fc332d-ab36-4e46-b480-db7cc06a0b7d",
   "metadata": {
    "id": "d6fc332d-ab36-4e46-b480-db7cc06a0b7d"
   },
   "outputs": [],
   "source": []
  }
 ],
 "metadata": {
  "kernelspec": {
   "display_name": "Python 3.9",
   "language": "python",
   "name": "python3"
  },
  "language_info": {
   "codemirror_mode": {
    "name": "ipython",
    "version": 3
   },
   "file_extension": ".py",
   "mimetype": "text/x-python",
   "name": "python",
   "nbconvert_exporter": "python",
   "pygments_lexer": "ipython3",
   "version": "3.9.7"
  }
 },
 "nbformat": 4,
 "nbformat_minor": 5
}
