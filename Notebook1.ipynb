{
 "cells": [
  {
   "cell_type": "code",
   "execution_count": 1,
   "id": "052e294a-de89-4ec2-b92f-f7317dfd9a5a",
   "metadata": {
    "id": "7552364d-e015-433e-a688-673118ce8d0f",
    "tags": []
   },
   "outputs": [
    {
     "name": "stdout",
     "output_type": "stream",
     "text": [
      "Hello world. This is Notebook 1\n"
     ]
    }
   ],
   "source": [
    "print(\"Hello world. This is Notebook 1\")"
   ]
  },
  {
   "cell_type": "code",
   "execution_count": null,
   "id": "6c12f18b-44d9-48ca-88d5-128949afbb54",
   "metadata": {
    "id": "6c12f18b-44d9-48ca-88d5-128949afbb54"
   },
   "outputs": [],
   "source": []
  }
 ],
 "metadata": {
  "kernelspec": {
   "display_name": "Python 3.9",
   "language": "python",
   "name": "python3"
  },
  "language_info": {
   "codemirror_mode": {
    "name": "ipython",
    "version": 3
   },
   "file_extension": ".py",
   "mimetype": "text/x-python",
   "name": "python",
   "nbconvert_exporter": "python",
   "pygments_lexer": "ipython3",
   "version": "3.9.7"
  }
 },
 "nbformat": 4,
 "nbformat_minor": 5
}
